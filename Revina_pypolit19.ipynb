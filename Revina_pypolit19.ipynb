{
  "nbformat": 4,
  "nbformat_minor": 0,
  "metadata": {
    "kernelspec": {
      "display_name": "Python 3",
      "language": "python",
      "name": "python3"
    },
    "language_info": {
      "codemirror_mode": {
        "name": "ipython",
        "version": 3
      },
      "file_extension": ".py",
      "mimetype": "text/x-python",
      "name": "python",
      "nbconvert_exporter": "python",
      "pygments_lexer": "ipython3",
      "version": "3.6.8"
    },
    "colab": {
      "name": "pypolit19-cw.ipynb",
      "provenance": []
    }
  },
  "cells": [
    {
      "cell_type": "markdown",
      "metadata": {
        "id": "e4KW1brBqpip",
        "colab_type": "text"
      },
      "source": [
        "## Контрольная работа по курсу  \n",
        "## «Основы программирования в Python»\n",
        "## Практическая часть (40 минут)\n",
        "\n",
        "*Всего за практическую часть можно получить 20 баллов. За задачи можно получить частичные баллы. Если код не запускается из-за опечаток и ошибок, то решение не засчитывается.*\n",
        "\n",
        "**Формат сдачи:** загрузить файл на Dropbox по [ссылке](https://www.dropbox.com/request/fY9sFsoS9DgVMFr9NBCn)."
      ]
    },
    {
      "cell_type": "markdown",
      "metadata": {
        "id": "wP20EWKhqpit",
        "colab_type": "text"
      },
      "source": [
        "### Задача 1 (4 балла)\n",
        "В Светлогорске, в музее Мирового океана есть прекрасные весы, которые позволяют узнать свой вес, измеренный в селедках, в китах, в креветках и в других морских обитателях. Напишите код, который запрашивает у пользователя с клавиатуры его вес в килограммах (целое или дробное число) и выводит на экран его вес в селедках, округленный до целого числа. Считайте, что средний вес селедки равен 350 граммам.\n",
        "\n",
        "\n",
        "**Пример исполнения кода:**\n",
        "\n",
        "Ввод:\n",
        "\n",
        "    Enter your weight in kg: 56\n",
        "\n",
        "Вывод:\n",
        "\n",
        "    Your weight is 160 herrings."
      ]
    },
    {
      "cell_type": "code",
      "metadata": {
        "id": "chFGCq5Hqpiy",
        "colab_type": "code",
        "colab": {
          "base_uri": "https://localhost:8080/",
          "height": 52
        },
        "outputId": "4253c429-fb9c-4f70-c79c-371be55badff"
      },
      "source": [
        "### YOUR CODE HERE # \n",
        "def weight():\n",
        "  weight = float(input(\"Enter your weight in kg: \"))\n",
        "  weight_herrings = (weight*1000)/350\n",
        "  print(f\"Your weight is {round(weight_herrings)} herrings.\")\n",
        "weight()"
      ],
      "execution_count": 5,
      "outputs": [
        {
          "output_type": "stream",
          "text": [
            "Enter your weight in kg: 56\n",
            "Your weight is 160 herrings.\n"
          ],
          "name": "stdout"
        }
      ]
    },
    {
      "cell_type": "markdown",
      "metadata": {
        "id": "cuPr_kY_qpi3",
        "colab_type": "text"
      },
      "source": [
        "### Задача 2 (6 баллов)\n",
        "Дан список со словами:\n",
        "\n",
        "```\n",
        "words = [\"feast\", \"beast\", \"twist\", \"humilation\"]\n",
        "```\n",
        "\n",
        "Напишите код, который делает следующее: запрашивает у пользователя с клавиатуры место, которое он больше всего хотел бы посетить в Хогвартсе, и возвращает текстовый комментарий:\n",
        "\n",
        "* если *Great Hall*, то *Let the feast begin*;\n",
        "* если *Care for Magical Creatures Class*, то *Let the beast begin*;\n",
        "* если *Forbidden Forest* или *Filch's Office*, то *Let the twist begin*;\n",
        "* если *Potions Classroom*, то *Let the humilation begin*.\n",
        "\n",
        "Если что-то иное – \"Too difficult. Let the break begin\".\n",
        "\n",
        "**Важно:** при решении обязательно должен использоваться список `words`, например, его элементы должны подставляться в текстовый шаблон.\n",
        "\n",
        "**Примеры.**\n",
        "\n",
        "Ввод:\n",
        "```\n",
        "Enter place to visit: Great Hall\n",
        "```\n",
        "\n",
        "Вывод:\n",
        "```\n",
        "Let the feast begin\n",
        "```\n",
        "\n",
        "Ввод:\n",
        "```\n",
        "Enter place to visit: Owlery\n",
        "```\n",
        "\n",
        "Вывод:\n",
        "```\n",
        "Too difficult. Let the break begin.\n",
        "```"
      ]
    },
    {
      "cell_type": "code",
      "metadata": {
        "id": "pvXxcLzQtXoo",
        "colab_type": "code",
        "colab": {
          "base_uri": "https://localhost:8080/",
          "height": 52
        },
        "outputId": "a52e4470-552f-404c-8377-1cc277c3cdd8"
      },
      "source": [
        "### YOUR CODE HERE ###\n",
        "def magic(): \n",
        "  words = [\"feast\", \"beast\", \"twist\", \"humilation\"]\n",
        "  places = [\"Great Hall\", \"Care for Magical Creatures Class\", \"Forbidden Forest\", \"Potions Classroom\"]\n",
        "  places_dict = dict(zip(places, words))\n",
        "\n",
        "  input_place = input(\"Enter place to visit: \")\n",
        "  if input_place in places_dict.keys(): \n",
        "    print(\"Let the {} begin\".format(places_dict.get(input_place)))\n",
        "  else: \n",
        "    print(\"Too difficult. Let the break begin.\")\n",
        "    \n",
        "magic()"
      ],
      "execution_count": 12,
      "outputs": [
        {
          "output_type": "stream",
          "text": [
            "Enter place to visit: Potions Classroom\n",
            "Let the humilation begin\n"
          ],
          "name": "stdout"
        }
      ]
    },
    {
      "cell_type": "markdown",
      "metadata": {
        "id": "fLAyC_ZXqpi_",
        "colab_type": "text"
      },
      "source": [
        "### Задача 3 (10 баллов)\n",
        "\n",
        "Напишите функцию `teremok()`, которая три раза запрашивает у пользователя с клавиатуры имена героев (один ввод на одного героя) и возвращает список героев, которые будут жить в теремке.\n",
        "\n",
        "Все герои, проживающие в теремке, должны быть разными. Если пользователь ввел имя героя более одного раза, то ему на экран выводится сообщение \"Такой герой уже есть\" и запрашивается новый ввод (если опять возникает та же проблема, операция повторяется, пока пользователь не введет все верно).\n",
        "\n",
        "**Пример 1.**\n",
        "\n",
        "Вызов функции:\n",
        "```\n",
        "teremok()\n",
        "Введите первого героя: мышка\n",
        "Введите второго героя: лягушка\n",
        "Введите третьего героя: зайчик\n",
        "```\n",
        "\n",
        "Результат:\n",
        "```\n",
        "['мышка', 'лягушка', 'зайчик']\n",
        "```\n",
        "\n",
        "**Пример 2.**\n",
        "\n",
        "Вызов функции:\n",
        "\n",
        "```\n",
        "teremok()\n",
        "Введите первого героя: Колобок\n",
        "Введите второго героя: Колобок\n",
        "Такой герой уже есть. Попробуйте еще раз.\n",
        "Введите второго героя: Колобок\n",
        "Такой герой уже есть. Попробуйте еще раз.\n",
        "Введите второго героя: медведь\n",
        "Введите третьего героя: лиса\n",
        "```\n",
        "\n",
        "Результат:\n",
        "\n",
        "```\n",
        "['Колобок', 'медведь', 'лиса']\n",
        "```\n",
        "Мысли вслух: кажется, у Колобка нет шансов."
      ]
    },
    {
      "cell_type": "code",
      "metadata": {
        "id": "oeIAHYC4qpjB",
        "colab_type": "code",
        "colab": {
          "base_uri": "https://localhost:8080/",
          "height": 159
        },
        "outputId": "87eca07c-4cb5-411e-9bbf-af6662edcc83"
      },
      "source": [
        "### YOUR CODE HERE ###\n",
        "\n",
        "def teremok():\n",
        "\n",
        "  list_heros = list()\n",
        "\n",
        "\n",
        "  name1 = input(\"Введите первого героя: \")\n",
        "  list_heros.append(name1)\n",
        "\n",
        "  name2 = input(\"Введите второго героя: \")\n",
        "\n",
        "  while name2 in list_heros: \n",
        "    print(\"Такой герой уже есть. Попробуйте еще раз.\")\n",
        "    name2 = input(\"Введите второго героя: \")\n",
        "\n",
        "  list_heros.append(name2)\n",
        "\n",
        "  name3 = input(\"Введите третьего героя: \") \n",
        "\n",
        "  while name3 in list_heros: \n",
        "    print(\"Такой герой уже есть. Попробуйте еще раз.\")\n",
        "    name3 = input(\"Введите третьего героя: \")\n",
        "\n",
        "  list_heros.append(name3)\n",
        "\n",
        "  print(list_heros)\n",
        "\n",
        "teremok()"
      ],
      "execution_count": 4,
      "outputs": [
        {
          "output_type": "stream",
          "text": [
            "Введите первого героя: Колобок\n",
            "Введите второго героя: Колобок\n",
            "Такой герой уже есть. Попробуйте еще раз.\n",
            "Введите второго героя: лиса\n",
            "Введите третьего героя: лиса\n",
            "Такой герой уже есть. Попробуйте еще раз.\n",
            "Введите третьего героя: медведь\n",
            "['Колобок', 'лиса', 'медведь']\n"
          ],
          "name": "stdout"
        }
      ]
    }
  ]
}