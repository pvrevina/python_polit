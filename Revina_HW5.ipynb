{
 "cells": [
  {
   "cell_type": "markdown",
   "metadata": {
    "colab_type": "text",
    "id": "OrEXxMW-Acl0"
   },
   "source": [
    "## Домашнее задание №5\n",
    "\n",
    "За разные задачи можно получить разное число баллов. Если не указано обратное, задача весит 1 балл. Максимум за ДЗ можно набрать 11 баллов. Вы можете решить больше задач, чем требуется, чтобы потренироваться.\n",
    "\n",
    "Для предварительной проверки задания нужно сделать следующее:\n",
    "\n",
    "Скачать данный `ipynb`-файл на свой компьютер, открыть его в IPython Notebook/Jupyter.\n",
    "Активировать тесты (см. ниже).\n",
    "Вставить решение каждой задачи в ячейку для кода, следующую за его условием, там, где написан комментарий `# YOUR CODE HERE`. Отступ вашего кода должен составлять 4 пробела. Ничего не менять вокруг!\n",
    "Запустить ячейку, в которую вы вставили код с решением. Ввести какие-то входные данные, проверить визуально правильность вывода.\n",
    "Запустить следующую ячейку (в ней содержится тест). Если запуск ячейки с тестом не приводит к появлению ошибки (assertion), значит, всё в порядке, задача решена. Если приводит к появлению ошибки, значит, тест не пройден и нужно искать ошибку.\n",
    "Внимание! Если в какой-то момент забыть ввести входные данные и перейти на следующую ячейку, есть риск, что Notebook перестанет откликаться. В этом случае надо перезапустить ядро: Kernel → Restart. При этом потеряются все значения переменных, но сам код останется.\n",
    "\n",
    "Чтобы сдать ДЗ, его надо загрузить в [nbgr-x](http://python.math-hse.info) в виде `ipynb`-файла. Получить `ipynb`-файл можно, выбрав в Jupyter пункт меню *File* → *Download as...* → *IPython Notebook (.ipynb)*.\n",
    "\n",
    "**Обратите внимание:**\n",
    "\n",
    "* В этом домашнем задании запрашивать информацию у пользователя с клавиатуры *не требуется* – `input()` не нужен.\n",
    "* Название функции должно совпадать с названием, указанным в задаче, иначе ваше решение не пройдет тест.\n",
    "* Решение любой задачи должно начинаться со строчки с `def`."
   ]
  },
  {
   "cell_type": "markdown",
   "metadata": {
    "colab_type": "text",
    "id": "x2tdI6umAcl4"
   },
   "source": [
    "### Активировать тесты\n",
    "Запустите следующие ячейку, чтобы иметь возможность запускать тесты. Эту операцию нужно проделывать каждый раз, когда вы перезапускаете ядро. Если какой-то из тестов говорит `NameError: name 'Tester' is not defined`, нужно запустить эту ячейку ещё раз."
   ]
  },
  {
   "cell_type": "code",
   "execution_count": 1,
   "metadata": {
    "colab": {},
    "colab_type": "code",
    "id": "PdHX6qWDAcl5"
   },
   "outputs": [],
   "source": [
    "# Фабрика тестов для проверки программ, принимающих данные через input()\n",
    "\n",
    "from collections import deque\n",
    "\n",
    "class Tester(object):\n",
    "    def __init__(self, inp):\n",
    "        self.outputs = []\n",
    "        self.inputs = deque(inp)\n",
    "    def print(self, *args, sep = \" \", end = \"\\n\"):\n",
    "        text = sep.join(map(str, args)) + end\n",
    "        newlines = text.splitlines(keepends=True)\n",
    "        if self.outputs and self.outputs[-1] and self.outputs[-1][-1] != \"\\n\" and newlines:\n",
    "            self.outputs[-1] += newlines[0]\n",
    "            self.outputs.extend(newlines[1:])\n",
    "        else:\n",
    "            self.outputs.extend(newlines)\n",
    "            \n",
    "    def input(self, *args):\n",
    "        assert self.inputs, \"Вы пытаетесь считать больше элементов, чем предусмотрено условием\"\n",
    "        return self.inputs.popleft()\n",
    "    def __enter__(self):\n",
    "        global print\n",
    "        global input\n",
    "        print = self.print\n",
    "        input = self.input\n",
    "        return self.outputs\n",
    "    def __exit__(self, *args):\n",
    "        global print\n",
    "        global input\n",
    "        del print\n",
    "        del input"
   ]
  },
  {
   "cell_type": "markdown",
   "metadata": {
    "colab_type": "text",
    "id": "imqNYF7lAcmD"
   },
   "source": [
    "### Задача 1\n",
    "\n",
    "Напишите функцию `my_expo(x)`, которая принимает на вход число `x` и возвращает значение экспоненты, возведенной в степень `x`. Функция не должна ничего печатать (выводить на экран).\n",
    "\n",
    "**Примеры работы функции:**\n",
    "\n",
    "*Применение:*\n",
    "\n",
    "    my_expo(2)\n",
    "    \n",
    "*Результат:*    \n",
    "\n",
    "    7.38905609893065\n",
    "    \n",
    "*Применение:*\n",
    "\n",
    "    my_expo(-1.5)\n",
    "    \n",
    "*Результат:*    \n",
    "\n",
    "    0.22313016014842982"
   ]
  },
  {
   "cell_type": "code",
   "execution_count": 2,
   "metadata": {
    "colab": {},
    "colab_type": "code",
    "id": "2nq-vVGCAq9w"
   },
   "outputs": [],
   "source": [
    "from numpy import *"
   ]
  },
  {
   "cell_type": "code",
   "execution_count": 3,
   "metadata": {
    "colab": {},
    "colab_type": "code",
    "deletable": false,
    "id": "bDb5aQ_1AcmF",
    "nbgrader": {
     "checksum": "454ef53ea4c6dc7a03e0fc43e05654bd",
     "grade": false,
     "grade_id": "p1",
     "locked": false,
     "schema_version": 1,
     "solution": true
    }
   },
   "outputs": [],
   "source": [
    "# YOUR CODE HERE\n",
    "def my_expo(x): \n",
    "    return(exp(x))"
   ]
  },
  {
   "cell_type": "code",
   "execution_count": 4,
   "metadata": {
    "colab": {
     "base_uri": "https://localhost:8080/",
     "height": 34
    },
    "colab_type": "code",
    "deletable": false,
    "id": "h4dijHJbAcmL",
    "nbgrader": {
     "checksum": "11c1c248c441d5a62025b548dd325190",
     "grade": true,
     "grade_id": "p1-test",
     "locked": true,
     "points": 1,
     "schema_version": 1,
     "solution": false
    },
    "outputId": "31356b9d-607d-41c7-9ea5-d6a8c62178e6"
   },
   "outputs": [
    {
     "name": "stdout",
     "output_type": "stream",
     "text": [
      "Окей!\n"
     ]
    }
   ],
   "source": [
    "import math\n",
    "assert(math.isclose(my_expo(1), 2.718281828459045, rel_tol=1e-4, abs_tol=0.0))\n",
    "assert(math.isclose(my_expo(2),7.38905609893065, rel_tol=1e-4, abs_tol=0.0))\n",
    "assert(math.isclose(my_expo(-1.5),0.22313016014842982, rel_tol=1e-4, abs_tol=0.0))\n",
    "assert(math.isclose(my_expo(0), 1.0, rel_tol=1e-4, abs_tol=0.0))\n",
    "assert(math.isclose(my_expo(3),20.085536923187668, rel_tol=1e-4, abs_tol=0.0))\n",
    "with Tester([]) as t:\n",
    "    my_expo(3)\n",
    "    assert len(t) == 0, \"функция ничего не должна печатать\"\n",
    "\n",
    "print(\"Окей!\")"
   ]
  },
  {
   "cell_type": "markdown",
   "metadata": {
    "colab_type": "text",
    "id": "1hFTkEWCAcmP"
   },
   "source": [
    "### Задача 2\n",
    "\n",
    "Напишите функцию `int_list(L)`, которая принимает на вход список строк `L`, представляющих собой целые числа, и возвращает новый список из целых чисел. Функция не должна ничего печатать (выводить на экран).\n",
    "\n",
    "**Пример работы функции:**\n",
    "\n",
    "*Применение:*\n",
    "\n",
    "    int_list(['1', '3', '5', '18'])\n",
    "    \n",
    "*Результат:*    \n",
    "\n",
    "    [1, 3, 5, 18]"
   ]
  },
  {
   "cell_type": "code",
   "execution_count": 5,
   "metadata": {
    "colab": {},
    "colab_type": "code",
    "deletable": false,
    "id": "wo4t7uMAAcmS",
    "nbgrader": {
     "checksum": "d211baea30a464f5d7570c6561636c8d",
     "grade": false,
     "grade_id": "p2",
     "locked": false,
     "schema_version": 1,
     "solution": true
    }
   },
   "outputs": [],
   "source": [
    "# YOUR CODE HERE\n",
    "def int_list(L): \n",
    "    return([int(i) for i in L])"
   ]
  },
  {
   "cell_type": "code",
   "execution_count": 6,
   "metadata": {
    "colab": {
     "base_uri": "https://localhost:8080/",
     "height": 34
    },
    "colab_type": "code",
    "deletable": false,
    "id": "sNStsvyTAcmZ",
    "nbgrader": {
     "checksum": "616a5769804164edebf0cafeb8910300",
     "grade": true,
     "grade_id": "p2-test",
     "locked": true,
     "points": 1,
     "schema_version": 1,
     "solution": false
    },
    "outputId": "910cc8c4-2675-425a-d648-5e52272304c0"
   },
   "outputs": [
    {
     "name": "stdout",
     "output_type": "stream",
     "text": [
      "Окей!\n"
     ]
    }
   ],
   "source": [
    "assert(int_list(['1', '3', '5', '18']) == [1, 3, 5, 18])\n",
    "assert(int_list(['10', '33', '1555', '187']) == [10, 33, 1555, 187])\n",
    "assert(int_list(['-1', '-3', '-5', '-18']) == [-1, -3, -5, -18])\n",
    "assert(int_list(['23', '-43', '-5', '21']) == [23, -43, -5, 21])\n",
    "\n",
    "with Tester([]) as t:\n",
    "    int_list(['1', '3', '5', '18'])\n",
    "    assert len(t) == 0, \"функция ничего не должна печатать\"\n",
    "\n",
    "print(\"Окей!\")"
   ]
  },
  {
   "cell_type": "markdown",
   "metadata": {
    "colab_type": "text",
    "id": "jrB5ukxcAcmd"
   },
   "source": [
    "### Задача 3\n",
    "\n",
    "Напишите функцию `ave_mark(d)`, которая принимает на вход словарь `d`, ключами которого являются имена студентов, а значениями ‒ их оценки по курсу, и возвращает среднюю оценку по этому курсу без каких-либо округлений. Библиотечные функции `mean()`использовать нельзя, обычную функцию `sum()` ‒ можно. Функция не должна ничего печатать (выводить на экран).\n",
    "\n",
    "**Пример работы функции:**\n",
    "\n",
    "*Применение:*\n",
    "\n",
    "    ave_mark({'Элеонора': 8, 'Адам': 7, 'Урсула': 6, 'Альбер': 10})\n",
    "    \n",
    "*Результат:*    \n",
    "\n",
    "    7.75"
   ]
  },
  {
   "cell_type": "code",
   "execution_count": 14,
   "metadata": {
    "colab": {
     "base_uri": "https://localhost:8080/",
     "height": 296
    },
    "colab_type": "code",
    "deletable": false,
    "id": "NjzLG4gPAcmf",
    "nbgrader": {
     "checksum": "7f5555eeb37a3828ed9d508cfebfc868",
     "grade": false,
     "grade_id": "p3",
     "locked": false,
     "schema_version": 1,
     "solution": true
    },
    "outputId": "536cd5ef-766c-4948-e6ad-e7cdf3174ffa"
   },
   "outputs": [],
   "source": [
    "# YOUR CODE HERE"
   ]
  },
  {
   "cell_type": "code",
   "execution_count": 15,
   "metadata": {
    "colab": {},
    "colab_type": "code",
    "id": "HWBBe9EHGN8r"
   },
   "outputs": [],
   "source": [
    "def ave_mark(d): \n",
    "    grades = d.values()\n",
    "    total_sum = []\n",
    "    for i in grades: \n",
    "        total_sum.append(i)\n",
    "    return(sum(total_sum)/len(d))"
   ]
  },
  {
   "cell_type": "code",
   "execution_count": 16,
   "metadata": {
    "colab": {
     "base_uri": "https://localhost:8080/",
     "height": 34
    },
    "colab_type": "code",
    "id": "i8TZHFQqG2TW",
    "outputId": "3725b2aa-2ff3-44fd-e190-17d2f8ad24fe"
   },
   "outputs": [
    {
     "data": {
      "text/plain": [
       "7.75"
      ]
     },
     "execution_count": 16,
     "metadata": {},
     "output_type": "execute_result"
    }
   ],
   "source": [
    "ave_mark({'Элеонора': 8, 'Адам': 7, 'Урсула': 6, 'Альбер': 10})"
   ]
  },
  {
   "cell_type": "code",
   "execution_count": 17,
   "metadata": {
    "colab": {
     "base_uri": "https://localhost:8080/",
     "height": 34
    },
    "colab_type": "code",
    "deletable": false,
    "id": "rqXAd1gRAcml",
    "nbgrader": {
     "checksum": "203ccadd0091ad7f21019e514296fe1f",
     "grade": true,
     "grade_id": "p3-test",
     "locked": true,
     "points": 1,
     "schema_version": 1,
     "solution": false
    },
    "outputId": "dbb0fb27-8fc7-45e5-b8cb-fcb1e29505fe"
   },
   "outputs": [
    {
     "name": "stdout",
     "output_type": "stream",
     "text": [
      "Окей!\n"
     ]
    }
   ],
   "source": [
    "assert(ave_mark({'Элеонора': 8, 'Адам': 7, 'Урсула': 6, 'Альбер': 10}) == 7.75)\n",
    "assert(ave_mark({'Климентина': 10, 'Аврора': 5, 'Филипп': 10, 'Джек': 3}) == 7.0)\n",
    "assert(ave_mark({'Роза' : 5, 'Мерседес': 3, 'Анна': 4, 'Хорхе': 6, 'Фернан': 9, 'Мария': 5}) == 5.333333333333333)\n",
    "assert(ave_mark({'Алексей': 10, 'Андрей': 8}) == 9.0)\n",
    "assert(ave_mark({'Ли': 7, 'Ян': 6, 'Ия': 5, 'Эя' : 3, 'Джо' : 10, 'Рю' : 10, 'Эд' : 3, 'Ги' : 7, 'Ая' : 8}) == 6.555555555555555)\n",
    "\n",
    "with Tester([]) as t:\n",
    "    ave_mark({'Элеонора': 8, 'Адам': 7, 'Урсула': 6, 'Альбер': 10})\n",
    "    assert len(t) == 0, \"функция ничего не должна печатать\"\n",
    "\n",
    "print(\"Окей!\")"
   ]
  },
  {
   "cell_type": "markdown",
   "metadata": {
    "colab_type": "text",
    "id": "qK2Z2uPQAcmt"
   },
   "source": [
    "### Задача 4\n",
    "\n",
    "Напишите функцию `dummy(f)`, которая принимает на вход список значений индекса Freedom House `f` и возвращает список из 0 и 1, где 1 соответствует свободным странам (статус *Free*, значения индекса от 1.0 до 2.5 включительно). Функция не должна ничего печатать (выводить на экран).\n",
    "\n",
    "**Примеры работы функции:**\n",
    "\n",
    "*Применение:*\n",
    "\n",
    "    dummy([2.5, 3.0, 2.7, 3.6, 4.8, 6.5, 1.0, 1.5, 7.0])\n",
    "    \n",
    "*Результат:*    \n",
    "\n",
    "    [1, 0, 0, 0, 0, 0, 1, 1, 0]\n",
    "    \n",
    "*Применение:*\n",
    "\n",
    "    dummy([3.5, 3.0, 2.7, 3.6])\n",
    "    \n",
    "*Результат:*    \n",
    "\n",
    "    [0, 0, 0, 0]"
   ]
  },
  {
   "cell_type": "code",
   "execution_count": 18,
   "metadata": {
    "colab": {},
    "colab_type": "code",
    "deletable": false,
    "id": "2P2RKaOeAcmu",
    "nbgrader": {
     "checksum": "5c7ba640e27695e815522a2bd359d5f8",
     "grade": false,
     "grade_id": "p4",
     "locked": false,
     "schema_version": 1,
     "solution": true
    }
   },
   "outputs": [],
   "source": [
    "# YOUR CODE HERE\n",
    "def dummy(f): \n",
    "    dummies = [1 if (x <= 2.5) and (x >= 1) else 0 for x in f]\n",
    "    return dummies "
   ]
  },
  {
   "cell_type": "code",
   "execution_count": 19,
   "metadata": {
    "colab": {
     "base_uri": "https://localhost:8080/",
     "height": 34
    },
    "colab_type": "code",
    "id": "KL00Iy11Hz8q",
    "outputId": "f0d45a38-8afd-4179-8e38-9d3a5ba82e5e"
   },
   "outputs": [
    {
     "data": {
      "text/plain": [
       "[1, 0, 0, 0, 0, 0, 1, 1, 0]"
      ]
     },
     "execution_count": 19,
     "metadata": {},
     "output_type": "execute_result"
    }
   ],
   "source": [
    "dummy([2.5, 3.0, 2.7, 3.6, 4.8, 6.5, 1.0, 1.5, 7.0])"
   ]
  },
  {
   "cell_type": "code",
   "execution_count": 20,
   "metadata": {
    "colab": {
     "base_uri": "https://localhost:8080/",
     "height": 34
    },
    "colab_type": "code",
    "deletable": false,
    "id": "X7l7_1VQAcm0",
    "nbgrader": {
     "checksum": "e0dab9dfc31cd9a76615fec5753ed45c",
     "grade": true,
     "grade_id": "p4-test",
     "locked": true,
     "points": 1,
     "schema_version": 1,
     "solution": false
    },
    "outputId": "5440ccca-0bfd-473b-cee4-43ffefae4b7b"
   },
   "outputs": [
    {
     "name": "stdout",
     "output_type": "stream",
     "text": [
      "Окей!\n"
     ]
    }
   ],
   "source": [
    "assert(dummy([2.5, 3.0, 2.7, 3.6, 4.8, 6.5, 1.0, 1.5, 7.0]) == [1, 0, 0, 0, 0, 0, 1, 1, 0])\n",
    "assert(dummy([2.4, 1.0, 0.9, 3.5, 2.6]) == [1, 1, 0, 0, 0]) \n",
    "assert(dummy([1.8, 0.6, 0.0, 2.8]) == [1, 0, 0, 0])\n",
    "assert(dummy([3, 4, 5, 6]) == [0, 0, 0, 0])\n",
    "assert(dummy([1.0, 1.2, 2.3, 1.9, 2.2]) == [1, 1, 1, 1, 1])\n",
    "\n",
    "with Tester([]) as t:\n",
    "    dummy([1.8, 0.6, 0.0, 2.8])\n",
    "    assert len(t) == 0, \"функция ничего не должна печатать\"\n",
    "\n",
    "print(\"Окей!\")"
   ]
  },
  {
   "cell_type": "markdown",
   "metadata": {
    "colab_type": "text",
    "id": "UaQ7iXn4Acm4"
   },
   "source": [
    "### Задача 5\n",
    "\n",
    "Питон Петя решил сделать хорошее дело ‒ раздать те книги, которые у него хранятся в нескольких экземлярах. Напишите функцию `to_give(L)`, которая принимает на вход список названий книг `L` (строки), и возвращает отсортированный по алфавиту список книг, которые нужно отдать(то есть те книги, которые в списке встречаются более 1 раза). Функция не должна ничего печатать (выводить на экран).\n",
    "\n",
    "*Подсказка:* вспомните про метод `.count()` для списков и про функцию `sorted()`.\n",
    "\n",
    "**Примеры работы функции:**\n",
    "\n",
    "*Применение:*\n",
    "\n",
    "    to_give(['Хобби доктора Травена.', 'Хобби доктора Травена.', 'Змеелов.', 'Маленький принц.', \n",
    "    'Питоны о Питонах. Автобиография', 'Python для детей.', 'Питон для детей.', 'Кролики и удавы.', \n",
    "    'Маленький принц.', 'Удавы и питоны. Уход и содержание.', 'Питон для детей.'])\n",
    "    \n",
    "*Результат:*    \n",
    "\n",
    "    ['Маленький принц.', 'Питон для детей.','Хобби доктора Травена.']\n",
    "    \n",
    "*Применение:*\n",
    "\n",
    "    to_give(['Змеелов.', 'Маленький принц.','Хобби доктора Травена.'])\n",
    "    \n",
    "*Результат:*    \n",
    "\n",
    "    []    "
   ]
  },
  {
   "cell_type": "code",
   "execution_count": 21,
   "metadata": {
    "colab": {},
    "colab_type": "code",
    "deletable": false,
    "id": "G9UmsB2YAcm5",
    "nbgrader": {
     "checksum": "1807acc4c38a1a265c22092c7874447b",
     "grade": false,
     "grade_id": "p5",
     "locked": false,
     "schema_version": 1,
     "solution": true
    }
   },
   "outputs": [],
   "source": [
    "# YOUR CODE HERE\n",
    "def to_give(L):\n",
    "    new_set = set(L)\n",
    "  \n",
    "    give = []\n",
    "    for i in new_set: \n",
    "        number = L.count(i)\n",
    "        if number > 1: \n",
    "            give.append(i)\n",
    "    return(sorted(give))\n",
    "  "
   ]
  },
  {
   "cell_type": "code",
   "execution_count": 22,
   "metadata": {
    "colab": {
     "base_uri": "https://localhost:8080/",
     "height": 34
    },
    "colab_type": "code",
    "id": "G8YAv5wIAcm-",
    "outputId": "4f0923be-5ee5-42e0-bdc9-732a3b784778"
   },
   "outputs": [
    {
     "data": {
      "text/plain": [
       "['Маленький принц.', 'Питон для детей.', 'Хобби доктора Травена.']"
      ]
     },
     "execution_count": 22,
     "metadata": {},
     "output_type": "execute_result"
    }
   ],
   "source": [
    "to_give(['Хобби доктора Травена.', 'Хобби доктора Травена.', 'Змеелов.', 'Маленький принц.', \n",
    "'Питоны о Питонах. Автобиография', 'Python для детей.', 'Питон для детей.', 'Кролики и удавы.', \n",
    "'Маленький принц.', 'Удавы и питоны. Уход и содержание.', 'Питон для детей.'])"
   ]
  },
  {
   "cell_type": "code",
   "execution_count": 23,
   "metadata": {
    "colab": {
     "base_uri": "https://localhost:8080/",
     "height": 34
    },
    "colab_type": "code",
    "deletable": false,
    "id": "nTQs9g7FAcnE",
    "nbgrader": {
     "checksum": "602d0dacc027863e66ac83d2c09c6ebd",
     "grade": true,
     "grade_id": "p5-test",
     "locked": true,
     "points": 1,
     "schema_version": 1,
     "solution": false
    },
    "outputId": "12980d1d-0dea-4699-c0f8-bff768962c41"
   },
   "outputs": [
    {
     "name": "stdout",
     "output_type": "stream",
     "text": [
      "Окей!\n"
     ]
    }
   ],
   "source": [
    "assert(to_give(['Хобби доктора Травена.', 'Маленький принц.', 'Python для детей.']) == [])\n",
    "assert(to_give(['Хобби доктора Травена.', 'Хобби доктора Травена.', 'Змеелов.', 'Маленький принц.', \n",
    "'Питоны о Питонах. Автобиография', 'Python для детей.', 'Питон для детей.', 'Кролики и удавы.', \n",
    "'Маленький принц.', 'Удавы и питоны. Уход и содержание.', 'Питон для детей.']) == ['Маленький принц.', 'Питон для детей.','Хобби доктора Травена.'])\n",
    "assert(to_give(['c', 'a', 'b', 'b', 'd', 'a', 'c']) == ['a', 'b', 'c'])\n",
    "\n",
    "with Tester([]) as t:\n",
    "    to_give(['Хобби доктора Травена.', 'Маленький принц.', 'Python для детей.'])\n",
    "    assert len(t) == 0, \"функция ничего не должна печатать\"\n",
    "\n",
    "print(\"Окей!\")"
   ]
  },
  {
   "cell_type": "markdown",
   "metadata": {
    "colab_type": "text",
    "id": "JIaphaV4AcnM"
   },
   "source": [
    "### Задача 6\n",
    "\n",
    "Напишите функцию `ListMax(L1, L2)`, которая принимает на вход два списка чисел `L1`, `L2`и возвращает наибольшее число из этих двух списков. Склеивать списки (приписывать элементы одного списка в конец другого) нельзя, использовать функцию `max()` можно. Функция не должна ничего печатать (выводить на экран).\n",
    "\n",
    "**Примеры работы функции:**\n",
    "\n",
    "*Применение:*\n",
    "\n",
    "    ListMax([6, 8, 9], [7, 10, 2, 5])\n",
    "    \n",
    "*Результат:*    \n",
    "\n",
    "    10\n",
    "    \n",
    "*Применение:*\n",
    "\n",
    "    ListMax([0, 8, 1, 7], [8, 3, 4, 0, 5, -1])\n",
    "    \n",
    "*Результат:*    \n",
    "\n",
    "    8    "
   ]
  },
  {
   "cell_type": "code",
   "execution_count": 24,
   "metadata": {
    "colab": {},
    "colab_type": "code",
    "deletable": false,
    "id": "Db_yf4h-AcnO",
    "nbgrader": {
     "checksum": "0b5c934f0c4d8f25bbfbadff57d4b31b",
     "grade": false,
     "grade_id": "p6",
     "locked": false,
     "schema_version": 1,
     "solution": true
    }
   },
   "outputs": [],
   "source": [
    "# YOUR CODE HERE\n",
    "def ListMax(L1, L2): \n",
    "    return max(max(L1), max(L2))"
   ]
  },
  {
   "cell_type": "code",
   "execution_count": 25,
   "metadata": {
    "colab": {
     "base_uri": "https://localhost:8080/",
     "height": 34
    },
    "colab_type": "code",
    "deletable": false,
    "id": "4cpYSmdWAcnV",
    "nbgrader": {
     "checksum": "6cfbf631633f7d0a9ce445ea1a6a5abc",
     "grade": true,
     "grade_id": "p6-test",
     "locked": true,
     "points": 1,
     "schema_version": 1,
     "solution": false
    },
    "outputId": "d63929a1-3876-4b31-a985-ab8015c059b1"
   },
   "outputs": [
    {
     "name": "stdout",
     "output_type": "stream",
     "text": [
      "Окей!\n"
     ]
    }
   ],
   "source": [
    "assert(ListMax([6, 8, 9], [7, 10, 2, 5]) == 10)\n",
    "assert(ListMax([0, 8, 1, 7], [8, 3, 4, 0, 5, -1]) == 8)\n",
    "assert(ListMax([10, 1.5, 3.6], [7.8, 10.2, 2.4, 5.66]) == 10.2)\n",
    "assert(ListMax([12, 13, 67, 100], [200]) == 200)\n",
    "\n",
    "with Tester([]) as t:\n",
    "    ListMax([6, 8, 9], [7, 10, 2, 5])\n",
    "    assert len(t) == 0, \"функция ничего не должна печатать\"\n",
    "\n",
    "print(\"Окей!\")"
   ]
  },
  {
   "cell_type": "markdown",
   "metadata": {
    "colab_type": "text",
    "id": "yXogQTV2Acnb"
   },
   "source": [
    "### Задача 7\n",
    "\n",
    "Напишите функцию `my_merge()`, которая принимает на вход перечень слов (не список, просто строки через запятую), и возвращает текст, составленный из этих слов ‒ строки через пробел. Функция не должна ничего печатать (выводить на экран).\n",
    "\n",
    "**Пример работы функции:**\n",
    "\n",
    "*Применение:*\n",
    "\n",
    "    my_merge('Ветер', 'надежды', 'держит', 'парус', 'на рассвет', ',', 'и')\n",
    "    \n",
    "*Результат:*    \n",
    "\n",
    "    'Ветер надежды держит парус на рассвет , и'"
   ]
  },
  {
   "cell_type": "code",
   "execution_count": 26,
   "metadata": {
    "colab": {},
    "colab_type": "code",
    "deletable": false,
    "id": "AQ3BWO5dAcnd",
    "nbgrader": {
     "checksum": "8330b51009a45d8ed1868a088a8dd60e",
     "grade": false,
     "grade_id": "p7",
     "locked": false,
     "schema_version": 1,
     "solution": true
    }
   },
   "outputs": [],
   "source": [
    "# YOUR CODE HERE\n",
    "def my_merge(*args):\n",
    "    m = list(args)\n",
    "    return ' '.join(m)"
   ]
  },
  {
   "cell_type": "code",
   "execution_count": 27,
   "metadata": {
    "colab": {
     "base_uri": "https://localhost:8080/",
     "height": 34
    },
    "colab_type": "code",
    "deletable": false,
    "id": "f5-0jomtAcnk",
    "nbgrader": {
     "checksum": "5057130313ffc3505a8aba0bfe0ee219",
     "grade": true,
     "grade_id": "p7-test",
     "locked": true,
     "points": 1,
     "schema_version": 1,
     "solution": false
    },
    "outputId": "17e49ccc-0606-4123-f702-0726462eaf17"
   },
   "outputs": [
    {
     "name": "stdout",
     "output_type": "stream",
     "text": [
      "Окей!\n"
     ]
    }
   ],
   "source": [
    "assert(my_merge('Ветер', 'надежды', 'держит', 'парус', 'на рассвет', ',', 'и') == 'Ветер надежды держит парус на рассвет , и')\n",
    "assert(my_merge('and', 'this','will','last','forever') == 'and this will last forever')\n",
    "assert(my_merge('не', 'знаю', ',', 'что', ' и ', 'придумать') == 'не знаю , что  и  придумать')\n",
    "\n",
    "with Tester([]) as t:\n",
    "    my_merge('and', 'this','will','last','forever')\n",
    "    assert len(t) == 0, \"функция ничего не должна печатать\"\n",
    "\n",
    "print(\"Окей!\")"
   ]
  },
  {
   "cell_type": "markdown",
   "metadata": {
    "colab_type": "text",
    "id": "PkB3g5vOAcnv"
   },
   "source": [
    "### Задача 8\n",
    "\n",
    "Напишите функцию `text_norm(text, code)`, которая \n",
    "\n",
    "* принимает на вход два аргумента: текст (строка) и код действия (целое число)\n",
    "* в случае, если код равен 1, текст возвращается \"как есть\", без изменений\n",
    "* в случае, если код равен 2, текст возвращается в предобработанном виде: в нижнем регистре, без лишних пробелов в начале и в конце.\n",
    "\n",
    "Функция не должна ничего печатать (выводить на экран).\n",
    "\n",
    "**Примеры работы функции:**\n",
    "\n",
    "*Применение:*\n",
    "\n",
    "    text_norm(\" Don't stop me now  \", 1)\n",
    "    \n",
    "*Результат:*    \n",
    "\n",
    "    ' Don't stop me now  '\n",
    "    \n",
    "*Применение:*\n",
    "\n",
    "    text_norm(\" Don't stop me now  \", 2)\n",
    "    \n",
    "*Результат:*    \n",
    "\n",
    "    'don't stop me now'"
   ]
  },
  {
   "cell_type": "code",
   "execution_count": 28,
   "metadata": {
    "colab": {},
    "colab_type": "code",
    "deletable": false,
    "id": "vc1WPebAAcnx",
    "nbgrader": {
     "checksum": "67c6adb2753b8805c688754fa3e06a5f",
     "grade": false,
     "grade_id": "p9",
     "locked": false,
     "schema_version": 1,
     "solution": true
    }
   },
   "outputs": [],
   "source": [
    "# YOUR CODE HERE\n",
    "def text_norm(text, code): \n",
    "    if code == 2: \n",
    "        text_new = text.lower().strip()\n",
    "    else: \n",
    "        text_new = text\n",
    "    return text_new"
   ]
  },
  {
   "cell_type": "code",
   "execution_count": 29,
   "metadata": {
    "colab": {
     "base_uri": "https://localhost:8080/",
     "height": 34
    },
    "colab_type": "code",
    "deletable": false,
    "id": "Guo0Om5OAcn2",
    "nbgrader": {
     "checksum": "9b5e756d5b5f842af3bd976b0225868f",
     "grade": true,
     "grade_id": "p9-test",
     "locked": true,
     "points": 1,
     "schema_version": 1,
     "solution": false
    },
    "outputId": "0adfea6f-2f96-46b3-9081-438641667f3c"
   },
   "outputs": [
    {
     "name": "stdout",
     "output_type": "stream",
     "text": [
      "Окей!\n"
     ]
    }
   ],
   "source": [
    "assert(text_norm(\" Don't stop me now  \", 1) == \" Don't stop me now  \")\n",
    "assert(text_norm(\" Don't stop me now  \", 2) == \"don't stop me now\")\n",
    "assert(text_norm('AAA b CC dd', 2) == 'aaa b cc dd')\n",
    "assert(text_norm('AAA b CC dd', 1) == 'AAA b CC dd')\n",
    "\n",
    "with Tester([]) as t:\n",
    "    text_norm(\" Don't stop me now  \", 1)\n",
    "    assert len(t) == 0, \"функция ничего не должна печатать\"\n",
    "\n",
    "print(\"Окей!\")"
   ]
  },
  {
   "cell_type": "markdown",
   "metadata": {
    "colab_type": "text",
    "id": "8ClIqJy3AcoC"
   },
   "source": [
    "### Задача 9 (2 балла)\n",
    "\n",
    "Дан словарь `cols` с соответствиями цветов при переводе изображения в негатив (очень примерно):\n",
    "\n",
    "    cols = {'white': 'black', 'red' : 'green', 'yellow': 'blue'}\n",
    "\n",
    "Напишите функцию `RevertCol(L)`, которая принимает на вход список цветов `L`, используемых в изображении, и возвращает список цветов этого изображения, переведенного в негатив. Словарь `cols` менять нельзя! Функция не должна ничего печатать (выводить на экран).\n",
    "\n",
    "**Примеры работы функции:**\n",
    "\n",
    "*Применение:*\n",
    "\n",
    "    RevertCol(['white', 'red', 'black', 'green', 'yellow', 'blue'])\n",
    "    \n",
    "*Результат:*    \n",
    "\n",
    "     ['black', 'green', 'white', 'red', 'blue', 'yellow']"
   ]
  },
  {
   "cell_type": "code",
   "execution_count": 30,
   "metadata": {
    "colab": {},
    "colab_type": "code",
    "deletable": false,
    "id": "dAKvIXsjAcoI",
    "nbgrader": {
     "checksum": "612f5b13473782715ab861725cecf864",
     "grade": false,
     "grade_id": "p10",
     "locked": false,
     "schema_version": 1,
     "solution": true
    }
   },
   "outputs": [],
   "source": [
    "# YOUR CODE HERE\n",
    "def RevertCol(L): \n",
    "    cols = {'white': 'black', 'red' : 'green', 'yellow': 'blue'}\n",
    "    new_cols = list()\n",
    "    for i in L:\n",
    "        for color, negativ in cols.items(): \n",
    "            if i == color: \n",
    "                new_cols.append(negativ)\n",
    "            elif i == negativ: \n",
    "                new_cols.append(color)\n",
    "      \n",
    "    return new_cols"
   ]
  },
  {
   "cell_type": "code",
   "execution_count": 31,
   "metadata": {
    "colab": {
     "base_uri": "https://localhost:8080/",
     "height": 34
    },
    "colab_type": "code",
    "deletable": false,
    "id": "Ym7VBuBPAcoO",
    "nbgrader": {
     "checksum": "9fb198515d7f7192a69412e7b7870ab0",
     "grade": true,
     "grade_id": "p10-test",
     "locked": true,
     "points": 2,
     "schema_version": 1,
     "solution": false
    },
    "outputId": "83fcf4ff-f456-4fd3-a46f-943b337e38a2"
   },
   "outputs": [
    {
     "name": "stdout",
     "output_type": "stream",
     "text": [
      "Окей!\n"
     ]
    }
   ],
   "source": [
    "assert(RevertCol(['white', 'red', 'black', 'green', 'yellow', 'blue']) == ['black', 'green', 'white', 'red', 'blue', 'yellow'])\n",
    "assert(RevertCol(['red', 'white']) == ['green', 'black'])\n",
    "assert(RevertCol(['black', 'black', 'yellow', 'blue']) == ['white', 'white', 'blue', 'yellow'])\n",
    "\n",
    "with Tester([]) as t:\n",
    "    RevertCol(['red', 'white']) == ['green', 'black']\n",
    "    assert len(t) == 0, \"функция ничего не должна печатать\"\n",
    "\n",
    "print(\"Окей!\")"
   ]
  },
  {
   "cell_type": "markdown",
   "metadata": {
    "colab_type": "text",
    "id": "Doeny2FYAcoU"
   },
   "source": [
    "### Задача 10 (2 балла)\n",
    "\n",
    "Напишите функцию `normalize(text)`, которая принимает на вход текст (`text`), и возвращает список слов этого текста, приведенных к нижнему регистру, с удаленными пробелами в начале и в конце. В итоговом списке должны быть только слова, без знаков препинания. Использовать никакие библиотечные функции нельзя. Функция не должна ничего печатать (выводить на экран).\n",
    "\n",
    "Получить строку со знаками препинания можно так: \n",
    "\n",
    "    import string\n",
    "    string.punctuation"
   ]
  },
  {
   "cell_type": "code",
   "execution_count": 32,
   "metadata": {
    "colab": {},
    "colab_type": "code",
    "deletable": false,
    "id": "vaBfEBChAcoV",
    "nbgrader": {
     "checksum": "6b3b5cfb28e6e72bbbc5ab37fdbd20c3",
     "grade": false,
     "grade_id": "p11",
     "locked": false,
     "schema_version": 1,
     "solution": true
    }
   },
   "outputs": [],
   "source": [
    "# YOUR CODE HERE\n",
    "def normalize(text): \n",
    "    text_str = text.strip()\n",
    "    return ''.join(x for x in text_str if x.isalpha() or x == \" \").lower().split()"
   ]
  },
  {
   "cell_type": "code",
   "execution_count": 33,
   "metadata": {
    "colab": {
     "base_uri": "https://localhost:8080/",
     "height": 34
    },
    "colab_type": "code",
    "deletable": false,
    "id": "RnviX9fPAcoZ",
    "nbgrader": {
     "checksum": "db74b51e252fe96565e9ce9524036d90",
     "grade": true,
     "grade_id": "cell-f5d234dc8b72195e",
     "locked": true,
     "points": 2,
     "schema_version": 1,
     "solution": false
    },
    "outputId": "ae8c6638-e040-4d69-b989-e292b3609453"
   },
   "outputs": [
    {
     "name": "stdout",
     "output_type": "stream",
     "text": [
      "Окей!\n"
     ]
    }
   ],
   "source": [
    "mytexts = [\n",
    "    (\"My mind is clearer now. At last all too well I can see where we all soon will be. If you strip away the myth from the man, You will see where we all soon will be.\", \n",
    "     ['my', 'mind', 'is', 'clearer', 'now', 'at', 'last', 'all', 'too', 'well', 'i', 'can', 'see', 'where', 'we', 'all', 'soon', 'will', 'be', 'if', 'you', 'strip', 'away', 'the', 'myth', 'from', 'the', 'man', 'you', 'will', 'see', 'where', 'we', 'all', 'soon', 'will', 'be']),\n",
    "    (\"I asked him to say what had happened,How it all began I asked again - he never said a word.As if he hadn't heard.\",\n",
    "     ['i', 'asked', 'him', 'to', 'say', 'what', 'had', 'happenedhow', 'it', 'all', 'began', 'i', 'asked', 'again', 'he', 'never', 'said', 'a', 'wordas', 'if', 'he', 'hadnt', 'heard']),\n",
    "    (\"There's too many of you...Don't push me.There's too little of me...Don't crowd me.Heal yourselves!\",\n",
    "    ['theres', 'too', 'many', 'of', 'youdont', 'push', 'metheres', 'too', 'little', 'of', 'medont', 'crowd', 'meheal', 'yourselves']),\n",
    "    (\"   Просто   много лишних  пробелов  \", ['просто', 'много', 'лишних', 'пробелов']),\n",
    "    (\"Есть множество! правил? которые нужно? выучить; но я их держу в голове.\",\n",
    "    ['есть', 'множество', 'правил', 'которые', 'нужно', 'выучить', 'но', 'я', 'их', 'держу', 'в', 'голове'])]\n",
    "           \n",
    "for t in mytexts:\n",
    "    assert(normalize(t[0]) == t[1])\n",
    "    \n",
    "with Tester([]) as t:\n",
    "    normalize(\"short text!ever\")\n",
    "    assert len(t) == 0, \"функция ничего не должна печатать\"\n",
    "\n",
    "print(\"Окей!\")"
   ]
  },
  {
   "cell_type": "markdown",
   "metadata": {
    "colab_type": "text",
    "id": "T4dDJaPqAcoc"
   },
   "source": [
    "### Задача 11 (5 баллов)\n",
    "\n",
    "Напишите функцию `eq_solve()`, которая принимает на вход строку с квадратным уравнением (без пробелов между знаками и со всеми коэффициентами, записанными явно, включая 1 и -1) и решает квадратное уравнение:\n",
    "\n",
    "  * если дискриминант отрицательный, печатает строку с предупреждением `Уравнение имеет комплексные корни` и возвращает пустой список;\n",
    "  * если дискриминант равен нулю, печатает строку `Уравнение имеет одно решение` и возвращает список из одного решения;\n",
    "  * если дискриминант больше нуля, печатает строку `Уравнение имеет два решения` и возвращает список из двух решений.\n",
    "  \n",
    "Считайте, что квадратное уравнение уже приведено к стандартному виду:\n",
    "\n",
    "$$ax^2+bx+c=0$$\n",
    "\n",
    "**Нельзя:** использовать библиотечные функции (кроме `sqrt()` из модуля `math`), регулярные выражения. \n",
    "\n",
    "**Можно:** создавать вспомогательные функции внутри основной функции `eq_solve()`, использовать условия, циклы, методы для строк, списков и прочие объекты, обсуждаемые на лекциях.\n",
    "\n",
    "**Примеры работы функции:**\n",
    "\n",
    "*Применение:*\n",
    "\n",
    "    eq_solve('1x^2+6x+9=0')\n",
    "    \n",
    "*Вывод на экран:*    \n",
    "\n",
    "    Уравнение имеет одно решение\n",
    "    \n",
    "*Возвращаемый результат:*\n",
    "\n",
    "    [-3.0]\n",
    "    \n",
    "*Применение:*\n",
    "\n",
    "    eq_solve('-2x^2-6x+9=0')\n",
    "    \n",
    "*Вывод на экран:*    \n",
    "\n",
    "    Уравнение имеет два решения\n",
    "    \n",
    "*Возвращаемый результат:*\n",
    "\n",
    "    [-4.098076211353316, 1.098076211353316]\n",
    "\n",
    "*Применение:*\n",
    "\n",
    "    eq_solve('3x^2-1x+10=0')\n",
    "    \n",
    "*Вывод на экран:*    \n",
    "\n",
    "    Уравнение имеет только комплексные корни\n",
    "    \n",
    "*Возвращаемый результат:*\n",
    "\n",
    "    []"
   ]
  },
  {
   "cell_type": "code",
   "execution_count": 41,
   "metadata": {
    "colab": {},
    "colab_type": "code",
    "deletable": false,
    "id": "vMHZBObPAcod",
    "nbgrader": {
     "checksum": "2656f76748529292f908f0749607d3fc",
     "grade": false,
     "grade_id": "p12",
     "locked": false,
     "schema_version": 1,
     "solution": true
    }
   },
   "outputs": [],
   "source": [
    "# YOUR CODE HERE"
   ]
  },
  {
   "cell_type": "code",
   "execution_count": 161,
   "metadata": {
    "colab": {
     "base_uri": "https://localhost:8080/",
     "height": 229
    },
    "colab_type": "code",
    "deletable": false,
    "id": "wZrF4eIMAcog",
    "nbgrader": {
     "checksum": "e93346811636c7dfc80827eea472724f",
     "grade": true,
     "grade_id": "p12-test",
     "locked": true,
     "points": 5,
     "schema_version": 1,
     "solution": false
    },
    "outputId": "851eb2ef-7231-4b5d-fdf5-05917f26ce54"
   },
   "outputs": [
    {
     "ename": "TypeError",
     "evalue": "ignored",
     "output_type": "error",
     "traceback": [
      "\u001b[0;31m---------------------------------------------------------------------------\u001b[0m",
      "\u001b[0;31mTypeError\u001b[0m                                 Traceback (most recent call last)",
      "\u001b[0;32m<ipython-input-161-0dd8752bc2ee>\u001b[0m in \u001b[0;36m<module>\u001b[0;34m()\u001b[0m\n\u001b[1;32m      9\u001b[0m \u001b[0;34m\u001b[0m\u001b[0m\n\u001b[1;32m     10\u001b[0m \u001b[0;32mfor\u001b[0m \u001b[0mt\u001b[0m \u001b[0;32min\u001b[0m \u001b[0mtests\u001b[0m\u001b[0;34m:\u001b[0m\u001b[0;34m\u001b[0m\u001b[0;34m\u001b[0m\u001b[0m\n\u001b[0;32m---> 11\u001b[0;31m     \u001b[0;32massert\u001b[0m\u001b[0;34m(\u001b[0m\u001b[0meq_solve\u001b[0m\u001b[0;34m(\u001b[0m\u001b[0mt\u001b[0m\u001b[0;34m[\u001b[0m\u001b[0;36m0\u001b[0m\u001b[0;34m]\u001b[0m\u001b[0;34m)\u001b[0m \u001b[0;34m==\u001b[0m \u001b[0mt\u001b[0m\u001b[0;34m[\u001b[0m\u001b[0;36m1\u001b[0m\u001b[0;34m]\u001b[0m\u001b[0;34m)\u001b[0m\u001b[0;34m\u001b[0m\u001b[0;34m\u001b[0m\u001b[0m\n\u001b[0m\u001b[1;32m     12\u001b[0m \u001b[0;34m\u001b[0m\u001b[0m\n\u001b[1;32m     13\u001b[0m \u001b[0;34m\u001b[0m\u001b[0m\n",
      "\u001b[0;31mTypeError\u001b[0m: eq_solve() takes 0 positional arguments but 1 was given"
     ]
    }
   ],
   "source": [
    "tests = [('3x^2-1x+10=0', []), \n",
    "         ('-5x^2+10x+1=0', [-0.09544511501033223, 2.0954451150103326]), \n",
    "         ('9x^2+4x+4=0', []), \n",
    "         ('-10x^2+25x-4=0', [0.1718070673576088, 2.3281929326423914]), \n",
    "         ('11x^2+5x-2=0', [0.25591571876066593, -0.7104611733061205]), \n",
    "         ('-5x^2-5x+7=0', [-1.784523257866513, 0.7845232578665129]),\n",
    "         ('17x^2-5x-7=0', [0.8053832142823351, -0.5112655672235116]),\n",
    "         ('3x^2+18x+27=0', [-3.0])]\n",
    "\n",
    "for t in tests:\n",
    "    assert(eq_solve(t[0]) == t[1])\n",
    "\n",
    "\n",
    "with Tester([]) as t:\n",
    "    x = eq_solve('3x^2+18x+27=0')\n",
    "    assert len(t) == 1, \"функция должна выводить ровно 1 строку\""
   ]
  }
 ],
 "metadata": {
  "colab": {
   "name": "homework5.ipynb",
   "provenance": []
  },
  "kernelspec": {
   "display_name": "Python 3",
   "language": "python",
   "name": "python3"
  },
  "language_info": {
   "codemirror_mode": {
    "name": "ipython",
    "version": 3
   },
   "file_extension": ".py",
   "mimetype": "text/x-python",
   "name": "python",
   "nbconvert_exporter": "python",
   "pygments_lexer": "ipython3",
   "version": "3.7.4"
  }
 },
 "nbformat": 4,
 "nbformat_minor": 1
}
